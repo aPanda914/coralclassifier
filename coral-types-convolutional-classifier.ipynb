{
 "cells": [
  {
   "cell_type": "markdown",
   "id": "e6e76e7f",
   "metadata": {
    "papermill": {
     "duration": 0.006028,
     "end_time": "2025-05-05T22:17:04.958272",
     "exception": false,
     "start_time": "2025-05-05T22:17:04.952244",
     "status": "completed"
    },
    "tags": []
   },
   "source": [
    "**This notebook is an exercise in the [Computer Vision](https://www.kaggle.com/learn/computer-vision) course.  You can reference the tutorial at [this link](https://www.kaggle.com/ryanholbrook/the-convolutional-classifier).**\n",
    "\n",
    "---\n"
   ]
  },
  {
   "cell_type": "markdown",
   "id": "caddb481",
   "metadata": {
    "papermill": {
     "duration": 0.005114,
     "end_time": "2025-05-05T22:17:04.968967",
     "exception": false,
     "start_time": "2025-05-05T22:17:04.963853",
     "status": "completed"
    },
    "tags": []
   },
   "source": [
    "<blockquote style=\"margin-right:auto; margin-left:auto; padding: 1em; margin:24px;\">\n",
    "    <strong>Accelerate Training with a Kaggle GPU!</strong><br>\n",
    "Did you know Kaggle offers free time with a GPU accelerator? You can speed up training neural networks in this course by switching to <strong>GPU</strong> in the <em>Accelerator</em> option on the right. (It may already be turned on.) Two things to be aware of:\n",
    "<ul>\n",
    "<li>Changing the <em>Accelerator</em> option will cause the notebook session to restart. You'll need to rerun any setup code.\n",
    "<li>You can have only one GPU session at a time, so be sure to shut the notebook down after you've finished the exercise.\n",
    "</ul>\n",
    "</blockquote>"
   ]
  },
  {
   "cell_type": "markdown",
   "id": "d4012983",
   "metadata": {
    "papermill": {
     "duration": 0.004833,
     "end_time": "2025-05-05T22:17:04.979067",
     "exception": false,
     "start_time": "2025-05-05T22:17:04.974234",
     "status": "completed"
    },
    "tags": []
   },
   "source": [
    "# Introduction #\n",
    "\n",
    "In the tutorial, we saw how to build an image classifier by attaching a head of dense layers to a pretrained base. The base we used was from a model called **VGG16**. We saw that the VGG16 architecture was prone to overfitting this dataset. Over this course, you'll learn a number of ways you can improve upon this initial attempt.\n",
    "\n",
    "The first way you'll see is to use a base more appropriate to the dataset. The base this model comes from is called **InceptionV1** (also known as GoogLeNet). InceptionV1 was one of the early winners of the ImageNet competition. One of its successors, InceptionV4, is among the state of the art today.\n",
    "\n",
    "To get started, run the code cell below to set everything up."
   ]
  },
  {
   "cell_type": "code",
   "execution_count": 1,
   "id": "b3e6d3c3",
   "metadata": {
    "execution": {
     "iopub.execute_input": "2025-05-05T22:17:04.991500Z",
     "iopub.status.busy": "2025-05-05T22:17:04.991097Z",
     "iopub.status.idle": "2025-05-05T22:17:23.125825Z",
     "shell.execute_reply": "2025-05-05T22:17:23.124953Z"
    },
    "lines_to_next_cell": 2,
    "papermill": {
     "duration": 18.143969,
     "end_time": "2025-05-05T22:17:23.128327",
     "exception": false,
     "start_time": "2025-05-05T22:17:04.984358",
     "status": "completed"
    },
    "tags": []
   },
   "outputs": [
    {
     "name": "stderr",
     "output_type": "stream",
     "text": [
      "2025-05-05 22:17:09.345455: E external/local_xla/xla/stream_executor/cuda/cuda_dnn.cc:9261] Unable to register cuDNN factory: Attempting to register factory for plugin cuDNN when one has already been registered\n",
      "2025-05-05 22:17:09.345599: E external/local_xla/xla/stream_executor/cuda/cuda_fft.cc:607] Unable to register cuFFT factory: Attempting to register factory for plugin cuFFT when one has already been registered\n",
      "2025-05-05 22:17:09.545504: E external/local_xla/xla/stream_executor/cuda/cuda_blas.cc:1515] Unable to register cuBLAS factory: Attempting to register factory for plugin cuBLAS when one has already been registered\n"
     ]
    },
    {
     "name": "stdout",
     "output_type": "stream",
     "text": [
      "Found 523 files belonging to 6 classes.\n",
      "Found 65 files belonging to 6 classes.\n"
     ]
    }
   ],
   "source": [
    "# Setup feedback system\n",
    "from learntools.core import binder\n",
    "binder.bind(globals())\n",
    "from learntools.computer_vision.ex1 import *\n",
    "\n",
    "# Imports\n",
    "import os, warnings\n",
    "import matplotlib.pyplot as plt\n",
    "from matplotlib import gridspec\n",
    "\n",
    "import numpy as np\n",
    "import tensorflow as tf\n",
    "from tensorflow.keras.preprocessing import image_dataset_from_directory\n",
    "\n",
    "# Reproducability\n",
    "def set_seed(seed=31415):\n",
    "    np.random.seed(seed)\n",
    "    tf.random.set_seed(seed)\n",
    "    os.environ['PYTHONHASHSEED'] = str(seed)\n",
    "    os.environ['TF_DETERMINISTIC_OPS'] = '1'\n",
    "set_seed()\n",
    "\n",
    "# Set Matplotlib defaults\n",
    "plt.rc('figure', autolayout=True)\n",
    "plt.rc('axes', labelweight='bold', labelsize='large',\n",
    "       titleweight='bold', titlesize=18, titlepad=10)\n",
    "plt.rc('image', cmap='magma')\n",
    "warnings.filterwarnings(\"ignore\") # to clean up output cells\n",
    "\n",
    "\n",
    "# Load training and validation sets\n",
    "ds_train_ = image_dataset_from_directory(\n",
    "    '../input/coral-type-classification/Coral classification/Training',\n",
    "    labels='inferred',\n",
    "    label_mode='categorical',\n",
    "    image_size=[128, 128],\n",
    "    interpolation='nearest',\n",
    "    batch_size=64,\n",
    "    shuffle=True,\n",
    ")\n",
    "ds_valid_ = image_dataset_from_directory(\n",
    "    '../input/coral-type-classification/Coral classification/Validation',\n",
    "    labels='inferred',\n",
    "    label_mode='categorical',\n",
    "    image_size=[128, 128],\n",
    "    interpolation='nearest',\n",
    "    batch_size=64,\n",
    "    shuffle=False,\n",
    ")\n",
    "\n",
    "# Data Pipeline\n",
    "def convert_to_float(image, label):\n",
    "    image = tf.image.convert_image_dtype(image, dtype=tf.float32)\n",
    "    return image, label\n",
    "\n",
    "AUTOTUNE = tf.data.experimental.AUTOTUNE\n",
    "ds_train = (\n",
    "    ds_train_\n",
    "    .map(convert_to_float)\n",
    "    .cache()\n",
    "    .prefetch(buffer_size=AUTOTUNE)\n",
    ")\n",
    "ds_valid = (\n",
    "    ds_valid_\n",
    "    .map(convert_to_float)\n",
    "    .cache()\n",
    "    .prefetch(buffer_size=AUTOTUNE)\n",
    ")\n"
   ]
  },
  {
   "cell_type": "code",
   "execution_count": 2,
   "id": "2f1b132c",
   "metadata": {
    "execution": {
     "iopub.execute_input": "2025-05-05T22:17:23.141083Z",
     "iopub.status.busy": "2025-05-05T22:17:23.140670Z",
     "iopub.status.idle": "2025-05-05T22:17:23.147942Z",
     "shell.execute_reply": "2025-05-05T22:17:23.146944Z"
    },
    "papermill": {
     "duration": 0.016069,
     "end_time": "2025-05-05T22:17:23.150140",
     "exception": false,
     "start_time": "2025-05-05T22:17:23.134071",
     "status": "completed"
    },
    "tags": []
   },
   "outputs": [
    {
     "data": {
      "text/plain": [
       "<_PrefetchDataset element_spec=(TensorSpec(shape=(None, 128, 128, 3), dtype=tf.float32, name=None), TensorSpec(shape=(None, 6), dtype=tf.float32, name=None))>"
      ]
     },
     "execution_count": 2,
     "metadata": {},
     "output_type": "execute_result"
    }
   ],
   "source": [
    "ds_train"
   ]
  },
  {
   "cell_type": "markdown",
   "id": "f9fc5762",
   "metadata": {
    "papermill": {
     "duration": 0.005431,
     "end_time": "2025-05-05T22:17:23.161352",
     "exception": false,
     "start_time": "2025-05-05T22:17:23.155921",
     "status": "completed"
    },
    "tags": []
   },
   "source": [
    "The **InceptionV1** model pretrained on ImageNet is available in the [TensorFlow Hub](https://www.tensorflow.org/hub/) repository, but we'll load it from a local copy. Run this cell to load InceptionV1 for your base."
   ]
  },
  {
   "cell_type": "code",
   "execution_count": 3,
   "id": "c2495885",
   "metadata": {
    "execution": {
     "iopub.execute_input": "2025-05-05T22:17:23.173951Z",
     "iopub.status.busy": "2025-05-05T22:17:23.173591Z",
     "iopub.status.idle": "2025-05-05T22:17:27.230521Z",
     "shell.execute_reply": "2025-05-05T22:17:27.229564Z"
    },
    "lines_to_next_cell": 0,
    "papermill": {
     "duration": 4.073167,
     "end_time": "2025-05-05T22:17:27.240082",
     "exception": false,
     "start_time": "2025-05-05T22:17:23.166915",
     "status": "completed"
    },
    "tags": []
   },
   "outputs": [],
   "source": [
    "import tensorflow_hub as hub\n",
    "\n",
    "pretrained_base = tf.keras.models.load_model(\n",
    "    '../input/cv-course-models/cv-course-models/inceptionv1'\n",
    ")"
   ]
  },
  {
   "cell_type": "markdown",
   "id": "d6da711d",
   "metadata": {
    "papermill": {
     "duration": 0.005425,
     "end_time": "2025-05-05T22:17:27.251481",
     "exception": false,
     "start_time": "2025-05-05T22:17:27.246056",
     "status": "completed"
    },
    "tags": []
   },
   "source": [
    "# 1) Define Pretrained Base #\n",
    "\n",
    "Now that you have a pretrained base to do our feature extraction, decide whether this base should be trainable or not."
   ]
  },
  {
   "cell_type": "code",
   "execution_count": 4,
   "id": "961b4e00",
   "metadata": {
    "execution": {
     "iopub.execute_input": "2025-05-05T22:17:27.264123Z",
     "iopub.status.busy": "2025-05-05T22:17:27.263759Z",
     "iopub.status.idle": "2025-05-05T22:17:27.272982Z",
     "shell.execute_reply": "2025-05-05T22:17:27.271980Z"
    },
    "lines_to_next_cell": 0,
    "papermill": {
     "duration": 0.018109,
     "end_time": "2025-05-05T22:17:27.275162",
     "exception": false,
     "start_time": "2025-05-05T22:17:27.257053",
     "status": "completed"
    },
    "tags": []
   },
   "outputs": [
    {
     "data": {
      "application/javascript": [
       "parent.postMessage({\"jupyterEvent\": \"custom.exercise_interaction\", \"data\": {\"outcomeType\": 1, \"valueTowardsCompletion\": 0.25, \"interactionType\": 1, \"questionType\": 2, \"questionId\": \"1_Q1\", \"learnToolsVersion\": \"0.3.4\", \"failureMessage\": \"\", \"exceptionClass\": \"\", \"trace\": \"\"}}, \"*\")"
      ],
      "text/plain": [
       "<IPython.core.display.Javascript object>"
      ]
     },
     "metadata": {},
     "output_type": "display_data"
    },
    {
     "data": {
      "text/markdown": [
       "<span style=\"color:#33cc33\">Correct:</span> When doing transfer learning, it's generally not a good idea to retrain the entire base -- at least not without some care. The reason is that the random weights in the head will initially create large gradient updates, which propogate back into the base layers and destroy much of the pretraining. Using techniques known as **fine tuning** it's possible to further train the base on new data, but this requires some care to do well."
      ],
      "text/plain": [
       "Correct: When doing transfer learning, it's generally not a good idea to retrain the entire base -- at least not without some care. The reason is that the random weights in the head will initially create large gradient updates, which propogate back into the base layers and destroy much of the pretraining. Using techniques known as **fine tuning** it's possible to further train the base on new data, but this requires some care to do well."
      ]
     },
     "metadata": {},
     "output_type": "display_data"
    }
   ],
   "source": [
    "# YOUR_CODE_HERE\n",
    "pretrained_base.trainable = False\n",
    "\n",
    "# Check your answer\n",
    "q_1.check()"
   ]
  },
  {
   "cell_type": "code",
   "execution_count": 5,
   "id": "e6df6daf",
   "metadata": {
    "execution": {
     "iopub.execute_input": "2025-05-05T22:17:27.288301Z",
     "iopub.status.busy": "2025-05-05T22:17:27.287938Z",
     "iopub.status.idle": "2025-05-05T22:17:27.292224Z",
     "shell.execute_reply": "2025-05-05T22:17:27.291216Z"
    },
    "papermill": {
     "duration": 0.01325,
     "end_time": "2025-05-05T22:17:27.294268",
     "exception": false,
     "start_time": "2025-05-05T22:17:27.281018",
     "status": "completed"
    },
    "tags": []
   },
   "outputs": [],
   "source": [
    "# Lines below will give you a hint or solution code\n",
    "#q_1.hint()\n",
    "#q_1.solution()"
   ]
  },
  {
   "cell_type": "markdown",
   "id": "cb2a162a",
   "metadata": {
    "papermill": {
     "duration": 0.005632,
     "end_time": "2025-05-05T22:17:27.306703",
     "exception": false,
     "start_time": "2025-05-05T22:17:27.301071",
     "status": "completed"
    },
    "tags": []
   },
   "source": [
    "# 2) Attach Head #\n",
    "\n",
    "Now that the base is defined to do the feature extraction, create a head of `Dense` layers to perform the classification, following this diagram:\n",
    "\n",
    "<figure>\n",
    "<img src=\"https://storage.googleapis.com/kaggle-media/learn/images/i5VU7Ry.png\" alt=\"Diagram of the dense head.\">\n",
    "</figure>\n"
   ]
  },
  {
   "cell_type": "code",
   "execution_count": 6,
   "id": "b35f2fb6",
   "metadata": {
    "execution": {
     "iopub.execute_input": "2025-05-05T22:17:27.320415Z",
     "iopub.status.busy": "2025-05-05T22:17:27.319665Z",
     "iopub.status.idle": "2025-05-05T22:17:27.340805Z",
     "shell.execute_reply": "2025-05-05T22:17:27.339948Z"
    },
    "lines_to_next_cell": 0,
    "papermill": {
     "duration": 0.030495,
     "end_time": "2025-05-05T22:17:27.343087",
     "exception": false,
     "start_time": "2025-05-05T22:17:27.312592",
     "status": "completed"
    },
    "tags": []
   },
   "outputs": [],
   "source": [
    "from tensorflow import keras\n",
    "from tensorflow.keras import layers\n",
    "from tensorflow.keras.layers.experimental import preprocessing\n",
    "#mobileNet = \"../input/mobilenet-v1/tensorflow2/025-128-classification/2\"\n",
    "#img_size = (128,128)\n",
    "\n",
    "model = keras.Sequential([\n",
    "    preprocessing.RandomFlip('horizontal'), # flip left-to-right\n",
    "    preprocessing.RandomContrast(0.5), # contrast change by up to 50\n",
    "    pretrained_base,\n",
    "    #for mobilenetv1:  hub.KerasLayer(mobileNet,input_shape=img_size+(3,),trainable=False),\n",
    "    layers.Flatten(),\n",
    "    # YOUR CODE HERE. Attach a head of dense layers.\n",
    "    layers.Dense(units=6, activation='relu'),\n",
    "    layers.Dense(units=6, activation='softmax'),\n",
    "])"
   ]
  },
  {
   "cell_type": "code",
   "execution_count": 7,
   "id": "fe055edb",
   "metadata": {
    "execution": {
     "iopub.execute_input": "2025-05-05T22:17:27.356552Z",
     "iopub.status.busy": "2025-05-05T22:17:27.356204Z",
     "iopub.status.idle": "2025-05-05T22:17:27.360473Z",
     "shell.execute_reply": "2025-05-05T22:17:27.359604Z"
    },
    "papermill": {
     "duration": 0.013506,
     "end_time": "2025-05-05T22:17:27.362634",
     "exception": false,
     "start_time": "2025-05-05T22:17:27.349128",
     "status": "completed"
    },
    "tags": []
   },
   "outputs": [],
   "source": [
    "# Lines below will give you a hint or solution code\n",
    "#q_2.hint()\n",
    "#q_2.solution()"
   ]
  },
  {
   "cell_type": "markdown",
   "id": "24616b68",
   "metadata": {
    "papermill": {
     "duration": 0.005746,
     "end_time": "2025-05-05T22:17:27.374286",
     "exception": false,
     "start_time": "2025-05-05T22:17:27.368540",
     "status": "completed"
    },
    "tags": []
   },
   "source": [
    "# 3) Train #\n",
    "\n",
    "Before training a model in Keras, you need to specify an *optimizer* to perform the gradient descent, a *loss function* to be minimized, and (optionally) any *performance metrics*. The optimization algorithm we'll use for this course is called [\"Adam\"](https://keras.io/api/optimizers/adam/), which generally performs well regardless of what kind of problem you're trying to solve.\n",
    "\n",
    "The loss and the metrics, however, need to match the kind of problem you're trying to solve. Our problem is a **binary classification** problem: `Car` coded as 0, and `Truck` coded as 1. Choose an appropriate loss and an appropriate accuracy metric for binary classification."
   ]
  },
  {
   "cell_type": "code",
   "execution_count": 8,
   "id": "893c43bc",
   "metadata": {
    "execution": {
     "iopub.execute_input": "2025-05-05T22:17:27.388082Z",
     "iopub.status.busy": "2025-05-05T22:17:27.387192Z",
     "iopub.status.idle": "2025-05-05T22:17:27.416893Z",
     "shell.execute_reply": "2025-05-05T22:17:27.415792Z"
    },
    "lines_to_next_cell": 0,
    "papermill": {
     "duration": 0.038907,
     "end_time": "2025-05-05T22:17:27.419104",
     "exception": false,
     "start_time": "2025-05-05T22:17:27.380197",
     "status": "completed"
    },
    "tags": []
   },
   "outputs": [
    {
     "data": {
      "application/javascript": [
       "parent.postMessage({\"jupyterEvent\": \"custom.exercise_interaction\", \"data\": {\"outcomeType\": 2, \"failureMessage\": \"The loss should be `'binary_crossentropy'`. You gave `categorical_crossentropy`\", \"interactionType\": 1, \"questionType\": 2, \"questionId\": \"3_Q3\", \"learnToolsVersion\": \"0.3.4\", \"valueTowardsCompletion\": 0.0, \"exceptionClass\": \"\", \"trace\": \"\"}}, \"*\")"
      ],
      "text/plain": [
       "<IPython.core.display.Javascript object>"
      ]
     },
     "metadata": {},
     "output_type": "display_data"
    },
    {
     "data": {
      "text/markdown": [
       "<span style=\"color:#cc3333\">Incorrect:</span> The loss should be `'binary_crossentropy'`. You gave `categorical_crossentropy`"
      ],
      "text/plain": [
       "Incorrect: The loss should be `'binary_crossentropy'`. You gave `categorical_crossentropy`"
      ]
     },
     "metadata": {},
     "output_type": "display_data"
    }
   ],
   "source": [
    "# YOUR CODE HERE: what loss function should you use for a binary\n",
    "# classification problem? (Your answer for each should be a string.)\n",
    "optimizer = tf.keras.optimizers.Adam(epsilon=0.01)\n",
    "model.compile(\n",
    "    optimizer=optimizer,\n",
    "    loss = 'categorical_crossentropy',\n",
    "    metrics=['accuracy'],\n",
    ")\n",
    "\n",
    "# Check your answer\n",
    "q_3.check()"
   ]
  },
  {
   "cell_type": "code",
   "execution_count": 9,
   "id": "3d2c5ba9",
   "metadata": {
    "execution": {
     "iopub.execute_input": "2025-05-05T22:17:27.432971Z",
     "iopub.status.busy": "2025-05-05T22:17:27.432588Z",
     "iopub.status.idle": "2025-05-05T22:17:27.440517Z",
     "shell.execute_reply": "2025-05-05T22:17:27.439554Z"
    },
    "lines_to_next_cell": 0,
    "papermill": {
     "duration": 0.017577,
     "end_time": "2025-05-05T22:17:27.442789",
     "exception": false,
     "start_time": "2025-05-05T22:17:27.425212",
     "status": "completed"
    },
    "tags": []
   },
   "outputs": [
    {
     "data": {
      "application/javascript": [
       "parent.postMessage({\"jupyterEvent\": \"custom.exercise_interaction\", \"data\": {\"interactionType\": 2, \"questionType\": 2, \"questionId\": \"3_Q3\", \"learnToolsVersion\": \"0.3.4\", \"valueTowardsCompletion\": 0.0, \"failureMessage\": \"\", \"exceptionClass\": \"\", \"trace\": \"\", \"outcomeType\": 4}}, \"*\")"
      ],
      "text/plain": [
       "<IPython.core.display.Javascript object>"
      ]
     },
     "metadata": {},
     "output_type": "display_data"
    },
    {
     "data": {
      "text/markdown": [
       "<span style=\"color:#3366cc\">Hint:</span> This is a *binary* classification problem."
      ],
      "text/plain": [
       "Hint: This is a *binary* classification problem."
      ]
     },
     "metadata": {},
     "output_type": "display_data"
    }
   ],
   "source": [
    "# Lines below will give you a hint or solution code\n",
    "q_3.hint()\n",
    "#q_3.solution()"
   ]
  },
  {
   "cell_type": "code",
   "execution_count": 10,
   "id": "34e9cdf0",
   "metadata": {
    "execution": {
     "iopub.execute_input": "2025-05-05T22:17:27.473629Z",
     "iopub.status.busy": "2025-05-05T22:17:27.473273Z",
     "iopub.status.idle": "2025-05-05T22:27:10.760373Z",
     "shell.execute_reply": "2025-05-05T22:27:10.759291Z"
    },
    "papermill": {
     "duration": 583.313224,
     "end_time": "2025-05-05T22:27:10.762464",
     "exception": false,
     "start_time": "2025-05-05T22:17:27.449240",
     "status": "completed"
    },
    "tags": []
   },
   "outputs": [
    {
     "name": "stdout",
     "output_type": "stream",
     "text": [
      "Epoch 1/60\n",
      "2/2 [==============================] - 1s 21ms/step\n",
      "tf.Tensor(\n",
      "[1 2 2 3 2 2 2 1 2 2 2 5 1 2 3 2 3 3 5 1 1 2 3 3 5 3 3 3 3 1 1 5 2 1 3 3 2\n",
      " 2 2 2 5 1 2 2 3 1 1 2 2 1 2 1 1 2 1 3 4 1 2 3 3 2 3 1 4], shape=(65,), dtype=int64)\n",
      "9/9 [==============================] - 22s 2s/step - loss: 2.3609 - accuracy: 0.1434 - val_loss: 1.9864 - val_accuracy: 0.0769\n",
      "Epoch 2/60\n",
      "2/2 [==============================] - 1s 20ms/step\n",
      "tf.Tensor(\n",
      "[1 2 0 3 2 0 2 0 2 2 4 0 0 0 2 2 2 0 0 1 0 2 4 2 0 2 4 0 5 4 0 0 2 0 2 4 2\n",
      " 2 2 2 0 0 0 2 2 0 0 0 2 1 2 4 0 0 0 4 4 0 0 2 0 2 4 4 4], shape=(65,), dtype=int64)\n",
      "9/9 [==============================] - 12s 1s/step - loss: 1.8885 - accuracy: 0.1013 - val_loss: 1.8219 - val_accuracy: 0.1077\n",
      "Epoch 3/60\n",
      "2/2 [==============================] - 1s 24ms/step\n",
      "tf.Tensor(\n",
      "[1 0 0 1 4 5 4 5 5 4 4 5 5 5 5 4 2 5 0 5 5 2 4 0 5 4 4 5 5 4 5 5 2 5 2 4 4\n",
      " 5 5 2 5 5 0 0 2 5 5 5 4 0 5 0 5 0 5 4 4 5 5 5 5 2 4 2 4], shape=(65,), dtype=int64)\n",
      "9/9 [==============================] - 13s 2s/step - loss: 1.7906 - accuracy: 0.1931 - val_loss: 1.8093 - val_accuracy: 0.1385\n",
      "Epoch 4/60\n",
      "2/2 [==============================] - 1s 20ms/step\n",
      "tf.Tensor(\n",
      "[1 4 4 1 4 5 4 5 5 4 4 5 5 5 5 4 4 0 4 5 5 0 4 4 5 4 4 5 0 4 5 5 0 5 4 4 4\n",
      " 5 5 5 5 5 4 4 5 5 5 5 4 0 5 0 5 0 5 4 4 5 5 0 5 5 4 2 4], shape=(65,), dtype=int64)\n",
      "9/9 [==============================] - 7s 795ms/step - loss: 1.7715 - accuracy: 0.2161 - val_loss: 1.8002 - val_accuracy: 0.1385\n",
      "Epoch 5/60\n",
      "2/2 [==============================] - 1s 20ms/step\n",
      "tf.Tensor(\n",
      "[1 4 4 0 4 5 4 5 5 4 4 5 5 5 5 4 4 3 4 5 5 4 3 4 5 4 4 0 3 4 0 0 0 5 4 4 4\n",
      " 0 0 5 4 0 4 4 0 0 0 5 4 0 5 3 3 4 5 3 3 5 5 3 5 5 3 5 4], shape=(65,), dtype=int64)\n",
      "9/9 [==============================] - 12s 1s/step - loss: 1.7346 - accuracy: 0.2639 - val_loss: 1.7561 - val_accuracy: 0.1538\n",
      "Epoch 6/60\n",
      "2/2 [==============================] - 1s 26ms/step\n",
      "tf.Tensor(\n",
      "[1 4 4 0 4 5 4 2 5 4 4 4 5 5 5 4 3 3 4 5 5 4 3 4 5 3 4 4 5 4 4 4 4 5 3 4 4\n",
      " 0 0 5 4 0 4 4 3 2 2 5 4 1 3 5 5 4 3 3 3 5 5 3 5 5 3 5 5], shape=(65,), dtype=int64)\n",
      "9/9 [==============================] - 13s 1s/step - loss: 1.6793 - accuracy: 0.2983 - val_loss: 1.6670 - val_accuracy: 0.2000\n",
      "Epoch 7/60\n",
      "2/2 [==============================] - 1s 20ms/step\n",
      "tf.Tensor(\n",
      "[1 0 4 0 4 1 4 4 1 4 4 2 3 2 5 4 4 3 4 5 5 4 4 4 5 4 4 2 5 4 2 2 4 5 3 4 4\n",
      " 4 4 4 4 4 4 4 4 2 2 5 4 1 4 5 5 4 5 3 3 5 0 3 5 1 5 5 4], shape=(65,), dtype=int64)\n",
      "9/9 [==============================] - 12s 1s/step - loss: 1.6091 - accuracy: 0.3155 - val_loss: 1.6129 - val_accuracy: 0.2923\n",
      "Epoch 8/60\n",
      "2/2 [==============================] - 1s 24ms/step\n",
      "tf.Tensor(\n",
      "[1 0 4 0 4 1 4 4 1 4 4 2 3 2 5 4 3 3 4 5 5 4 4 4 5 4 4 2 5 4 2 2 0 5 3 4 4\n",
      " 3 3 3 4 0 4 4 4 2 2 5 4 1 3 5 5 4 5 5 5 5 5 3 5 5 5 5 5], shape=(65,), dtype=int64)\n",
      "9/9 [==============================] - 12s 1s/step - loss: 1.5230 - accuracy: 0.3671 - val_loss: 1.5036 - val_accuracy: 0.3846\n",
      "Epoch 9/60\n",
      "2/2 [==============================] - 1s 21ms/step\n",
      "tf.Tensor(\n",
      "[1 0 4 0 0 1 4 0 5 0 0 2 3 5 5 4 3 3 4 5 5 0 4 4 5 4 4 2 1 4 2 2 0 5 3 0 3\n",
      " 3 3 3 4 3 4 4 4 2 2 5 4 1 5 5 5 4 5 5 5 5 5 5 5 5 5 5 5], shape=(65,), dtype=int64)\n",
      "9/9 [==============================] - 14s 2s/step - loss: 1.4622 - accuracy: 0.4264 - val_loss: 1.4213 - val_accuracy: 0.4769\n",
      "Epoch 10/60\n",
      "2/2 [==============================] - 1s 21ms/step\n",
      "tf.Tensor(\n",
      "[0 0 4 0 0 1 4 0 1 0 0 2 3 2 5 4 3 3 4 5 5 0 4 4 5 4 4 2 2 2 2 2 3 5 3 0 3\n",
      " 3 3 3 0 3 4 4 4 2 2 5 4 1 5 5 5 4 5 5 5 5 5 5 1 5 5 5 2], shape=(65,), dtype=int64)\n",
      "9/9 [==============================] - 12s 1s/step - loss: 1.3844 - accuracy: 0.4685 - val_loss: 1.3660 - val_accuracy: 0.5077\n",
      "Epoch 11/60\n",
      "2/2 [==============================] - 1s 22ms/step\n",
      "tf.Tensor(\n",
      "[0 0 4 0 0 1 4 0 2 0 0 1 3 2 1 0 3 3 4 5 5 0 4 4 2 4 2 2 2 2 2 2 3 5 3 0 3\n",
      " 3 3 3 0 3 4 4 4 2 2 5 4 1 5 5 5 4 5 5 5 5 5 5 2 5 5 5 2], shape=(65,), dtype=int64)\n",
      "9/9 [==============================] - 13s 2s/step - loss: 1.3242 - accuracy: 0.5105 - val_loss: 1.3067 - val_accuracy: 0.5538\n",
      "Epoch 12/60\n",
      "2/2 [==============================] - 1s 21ms/step\n",
      "tf.Tensor(\n",
      "[0 0 0 0 0 1 4 0 2 0 0 1 3 2 1 0 3 3 4 5 5 0 4 2 2 4 2 2 2 2 2 2 3 5 3 0 3\n",
      " 3 3 3 0 3 4 4 4 2 2 5 4 1 5 5 5 1 5 5 5 5 5 1 2 5 5 5 2], shape=(65,), dtype=int64)\n",
      "9/9 [==============================] - 12s 1s/step - loss: 1.2769 - accuracy: 0.5430 - val_loss: 1.2341 - val_accuracy: 0.5692\n",
      "Epoch 13/60\n",
      "2/2 [==============================] - 1s 20ms/step\n",
      "tf.Tensor(\n",
      "[0 0 0 0 0 1 4 0 1 0 0 1 3 1 1 0 3 3 0 5 5 0 4 2 2 0 2 2 2 2 2 2 3 5 3 0 3\n",
      " 3 3 3 0 3 4 4 4 2 2 5 4 1 5 5 5 0 5 5 5 5 5 1 2 2 5 5 2], shape=(65,), dtype=int64)\n",
      "9/9 [==============================] - 8s 876ms/step - loss: 1.2186 - accuracy: 0.5449 - val_loss: 1.2071 - val_accuracy: 0.5692\n",
      "Epoch 14/60\n",
      "2/2 [==============================] - 1s 20ms/step\n",
      "tf.Tensor(\n",
      "[0 0 0 0 0 1 4 0 1 0 0 1 5 1 1 0 3 3 0 5 5 0 4 2 2 0 2 2 2 2 2 2 3 5 3 0 3\n",
      " 3 3 3 0 3 4 4 4 2 2 5 4 1 5 5 5 0 5 5 5 5 5 1 2 5 5 5 2], shape=(65,), dtype=int64)\n",
      "9/9 [==============================] - 13s 2s/step - loss: 1.1422 - accuracy: 0.5946 - val_loss: 1.1348 - val_accuracy: 0.5846\n",
      "Epoch 15/60\n",
      "2/2 [==============================] - 1s 20ms/step\n",
      "tf.Tensor(\n",
      "[0 0 0 0 0 1 4 0 1 0 0 1 5 1 1 0 3 3 0 5 5 0 4 2 2 0 2 2 2 2 2 2 3 5 3 0 3\n",
      " 3 3 3 0 3 4 4 4 2 2 5 4 2 5 5 5 0 5 5 5 5 5 1 2 5 5 5 2], shape=(65,), dtype=int64)\n",
      "9/9 [==============================] - 7s 815ms/step - loss: 1.1026 - accuracy: 0.5946 - val_loss: 1.1005 - val_accuracy: 0.5846\n",
      "Epoch 16/60\n",
      "2/2 [==============================] - 1s 20ms/step\n",
      "tf.Tensor(\n",
      "[0 0 0 0 0 1 4 0 1 0 0 1 3 1 1 0 3 3 0 5 5 0 4 2 2 0 2 2 2 2 2 2 3 5 3 3 3\n",
      " 3 3 3 0 3 4 4 4 2 2 5 4 2 5 5 5 3 5 5 5 5 5 1 2 5 5 5 2], shape=(65,), dtype=int64)\n",
      "9/9 [==============================] - 12s 1s/step - loss: 1.0432 - accuracy: 0.6463 - val_loss: 1.0639 - val_accuracy: 0.6000\n",
      "Epoch 17/60\n",
      "2/2 [==============================] - 1s 21ms/step\n",
      "tf.Tensor(\n",
      "[0 0 1 0 0 1 0 0 1 0 0 1 5 1 1 0 3 3 0 5 5 0 2 2 2 0 2 2 2 2 2 2 3 5 3 3 3\n",
      " 3 3 3 0 3 4 4 4 2 2 5 4 2 5 5 5 3 5 5 5 5 5 1 1 5 5 5 2], shape=(65,), dtype=int64)\n",
      "9/9 [==============================] - 13s 2s/step - loss: 1.0215 - accuracy: 0.6252 - val_loss: 1.0228 - val_accuracy: 0.6154\n",
      "Epoch 18/60\n",
      "2/2 [==============================] - 1s 22ms/step\n",
      "tf.Tensor(\n",
      "[0 0 1 0 0 1 0 0 1 0 0 1 5 1 1 0 3 3 0 5 5 0 2 2 2 0 2 2 2 2 2 2 3 5 3 3 3\n",
      " 3 3 3 0 3 4 4 4 2 2 5 4 2 1 5 5 3 5 5 5 5 5 1 1 5 5 5 2], shape=(65,), dtype=int64)\n",
      "9/9 [==============================] - 8s 872ms/step - loss: 0.9559 - accuracy: 0.6501 - val_loss: 0.9985 - val_accuracy: 0.6154\n",
      "Epoch 19/60\n",
      "2/2 [==============================] - 1s 20ms/step\n",
      "tf.Tensor(\n",
      "[0 0 1 0 0 1 0 0 1 0 0 1 5 1 1 0 3 3 0 1 1 0 2 2 2 0 2 2 2 2 2 2 3 5 3 3 3\n",
      " 3 3 3 0 3 4 4 4 2 2 5 4 2 1 5 5 3 5 5 5 5 5 1 1 5 5 5 2], shape=(65,), dtype=int64)\n",
      "9/9 [==============================] - 13s 2s/step - loss: 0.9315 - accuracy: 0.6845 - val_loss: 0.9698 - val_accuracy: 0.6462\n",
      "Epoch 20/60\n",
      "2/2 [==============================] - 1s 22ms/step\n",
      "tf.Tensor(\n",
      "[0 0 1 0 0 1 0 0 1 0 1 1 5 1 1 0 3 1 0 1 1 0 2 2 2 2 2 2 2 2 2 2 3 5 3 3 3\n",
      " 3 3 3 0 3 4 4 4 2 2 5 4 2 1 5 5 3 5 5 5 5 5 1 1 5 5 5 2], shape=(65,), dtype=int64)\n",
      "9/9 [==============================] - 12s 1s/step - loss: 0.9068 - accuracy: 0.6826 - val_loss: 0.9453 - val_accuracy: 0.6615\n",
      "Epoch 21/60\n",
      "2/2 [==============================] - 1s 20ms/step\n",
      "tf.Tensor(\n",
      "[0 0 1 0 0 1 0 0 1 0 1 1 3 1 1 0 3 1 0 1 1 0 4 2 2 2 2 2 2 2 2 2 3 5 3 3 3\n",
      " 3 3 3 0 3 4 4 4 2 2 5 4 4 1 5 5 3 5 5 5 5 5 1 1 5 5 5 2], shape=(65,), dtype=int64)\n",
      "9/9 [==============================] - 8s 875ms/step - loss: 0.8915 - accuracy: 0.6922 - val_loss: 0.9269 - val_accuracy: 0.6615\n",
      "Epoch 22/60\n",
      "2/2 [==============================] - 1s 21ms/step\n",
      "tf.Tensor(\n",
      "[0 0 1 0 0 1 0 0 1 0 1 1 5 1 1 0 3 1 0 1 1 0 2 2 2 2 2 2 2 2 2 2 3 5 3 3 3\n",
      " 3 3 3 0 3 4 4 4 2 2 5 4 4 5 5 5 3 5 5 5 5 5 5 1 5 5 5 2], shape=(65,), dtype=int64)\n",
      "9/9 [==============================] - 12s 1s/step - loss: 0.8505 - accuracy: 0.7113 - val_loss: 0.9063 - val_accuracy: 0.6923\n",
      "Epoch 23/60\n",
      "2/2 [==============================] - 1s 20ms/step\n",
      "tf.Tensor(\n",
      "[0 0 1 0 0 1 0 0 1 0 1 1 1 1 1 0 3 1 0 1 1 0 2 2 2 2 2 2 2 2 2 2 3 5 3 3 3\n",
      " 3 3 3 0 3 4 4 4 2 2 5 4 4 5 5 5 3 5 5 5 5 5 5 1 5 5 5 2], shape=(65,), dtype=int64)\n",
      "9/9 [==============================] - 12s 1s/step - loss: 0.8254 - accuracy: 0.7247 - val_loss: 0.8922 - val_accuracy: 0.7077\n",
      "Epoch 24/60\n",
      "2/2 [==============================] - 1s 19ms/step\n",
      "tf.Tensor(\n",
      "[0 0 1 0 0 1 0 0 1 0 1 1 1 1 1 0 3 1 0 1 1 0 2 2 2 2 2 2 2 2 2 2 3 1 3 3 3\n",
      " 3 3 3 0 3 4 4 4 4 4 5 4 4 5 5 5 3 5 5 5 5 5 5 1 5 5 5 2], shape=(65,), dtype=int64)\n",
      "9/9 [==============================] - 12s 1s/step - loss: 0.7913 - accuracy: 0.7419 - val_loss: 0.8680 - val_accuracy: 0.7385\n",
      "Epoch 25/60\n",
      "2/2 [==============================] - 1s 20ms/step\n",
      "tf.Tensor(\n",
      "[0 0 1 0 0 1 0 0 1 0 1 1 1 1 1 0 3 1 0 1 1 0 2 2 2 2 2 2 2 2 2 2 3 1 3 3 3\n",
      " 3 3 3 0 3 4 4 4 4 4 5 4 4 5 5 5 3 5 5 5 5 5 5 5 5 5 5 2], shape=(65,), dtype=int64)\n",
      "9/9 [==============================] - 12s 1s/step - loss: 0.7681 - accuracy: 0.7629 - val_loss: 0.8489 - val_accuracy: 0.7538\n",
      "Epoch 26/60\n",
      "2/2 [==============================] - 1s 20ms/step\n",
      "tf.Tensor(\n",
      "[0 0 1 0 0 1 0 0 1 0 1 1 1 1 1 0 3 1 0 1 1 0 2 2 2 2 2 2 2 2 2 2 3 1 3 3 3\n",
      " 3 3 3 0 3 4 4 4 4 4 5 4 4 5 5 5 3 5 5 5 5 5 5 5 5 5 5 5], shape=(65,), dtype=int64)\n",
      "9/9 [==============================] - 13s 2s/step - loss: 0.7248 - accuracy: 0.7801 - val_loss: 0.8277 - val_accuracy: 0.7692\n",
      "Epoch 27/60\n",
      "2/2 [==============================] - 1s 22ms/step\n",
      "tf.Tensor(\n",
      "[0 0 1 0 0 1 0 0 1 0 1 1 1 1 1 0 3 1 0 1 1 0 2 2 2 2 2 2 2 2 2 2 3 1 3 3 3\n",
      " 3 3 3 0 3 4 4 4 4 4 5 4 4 5 5 5 3 5 5 5 5 5 5 5 5 5 5 5], shape=(65,), dtype=int64)\n",
      "9/9 [==============================] - 7s 806ms/step - loss: 0.7215 - accuracy: 0.7801 - val_loss: 0.8165 - val_accuracy: 0.7692\n",
      "Epoch 28/60\n",
      "2/2 [==============================] - 1s 19ms/step\n",
      "tf.Tensor(\n",
      "[0 0 1 0 0 1 0 0 1 0 1 1 1 1 1 0 3 1 0 1 1 0 2 2 2 2 2 2 2 2 2 2 3 1 3 3 3\n",
      " 3 3 3 0 3 4 4 4 4 4 5 4 4 5 5 5 3 5 5 5 5 5 5 5 5 5 5 5], shape=(65,), dtype=int64)\n",
      "9/9 [==============================] - 8s 946ms/step - loss: 0.6907 - accuracy: 0.7744 - val_loss: 0.7910 - val_accuracy: 0.7692\n",
      "Epoch 29/60\n",
      "2/2 [==============================] - 1s 20ms/step\n",
      "tf.Tensor(\n",
      "[0 0 1 0 0 1 0 0 1 0 1 1 1 1 1 0 3 1 0 1 1 0 2 2 2 2 2 2 2 2 2 2 3 1 3 3 3\n",
      " 3 3 3 0 3 4 4 4 4 4 5 4 4 5 5 5 3 5 5 5 5 5 5 5 5 5 5 5], shape=(65,), dtype=int64)\n",
      "9/9 [==============================] - 8s 873ms/step - loss: 0.6562 - accuracy: 0.7973 - val_loss: 0.7809 - val_accuracy: 0.7692\n",
      "Epoch 30/60\n",
      "2/2 [==============================] - 1s 22ms/step\n",
      "tf.Tensor(\n",
      "[0 0 1 0 0 1 0 0 1 0 1 1 1 1 1 0 3 1 0 1 1 0 2 2 2 2 2 2 2 2 2 2 3 1 3 3 3\n",
      " 3 3 3 0 3 4 4 4 4 4 5 4 4 5 5 5 3 5 5 5 5 5 5 5 5 5 5 5], shape=(65,), dtype=int64)\n",
      "9/9 [==============================] - 8s 858ms/step - loss: 0.6358 - accuracy: 0.7839 - val_loss: 0.7661 - val_accuracy: 0.7692\n",
      "Epoch 31/60\n",
      "2/2 [==============================] - 1s 21ms/step\n",
      "tf.Tensor(\n",
      "[0 0 1 0 0 1 0 0 1 0 1 1 1 1 1 0 3 1 0 1 1 0 2 2 2 2 2 2 2 2 2 2 3 1 3 3 3\n",
      " 3 3 3 0 3 4 4 4 4 4 5 4 4 5 5 5 3 5 5 5 5 5 5 5 5 5 5 4], shape=(65,), dtype=int64)\n",
      "9/9 [==============================] - 8s 879ms/step - loss: 0.6294 - accuracy: 0.7916 - val_loss: 0.7651 - val_accuracy: 0.7538\n",
      "Epoch 32/60\n",
      "2/2 [==============================] - 1s 21ms/step\n",
      "tf.Tensor(\n",
      "[0 0 1 0 0 1 0 0 1 0 1 1 1 1 1 0 3 1 0 1 1 0 2 2 2 2 2 2 2 2 2 2 3 1 3 3 3\n",
      " 3 3 3 0 3 4 4 4 4 4 5 4 4 5 5 5 3 5 5 5 5 5 5 5 5 5 5 4], shape=(65,), dtype=int64)\n",
      "9/9 [==============================] - 7s 796ms/step - loss: 0.6052 - accuracy: 0.8164 - val_loss: 0.7519 - val_accuracy: 0.7538\n",
      "Epoch 33/60\n",
      "2/2 [==============================] - 1s 20ms/step\n",
      "tf.Tensor(\n",
      "[0 0 1 0 0 1 0 0 1 0 1 1 1 1 1 0 3 1 0 1 1 0 2 2 2 2 2 2 2 2 2 2 3 1 3 3 3\n",
      " 3 3 3 0 3 4 4 4 4 4 5 4 4 5 5 5 3 5 5 5 5 5 5 5 5 5 5 5], shape=(65,), dtype=int64)\n",
      "9/9 [==============================] - 7s 798ms/step - loss: 0.5883 - accuracy: 0.8145 - val_loss: 0.7456 - val_accuracy: 0.7692\n",
      "Epoch 34/60\n",
      "2/2 [==============================] - 1s 21ms/step\n",
      "tf.Tensor(\n",
      "[0 0 1 0 0 1 0 0 1 0 1 1 1 1 1 0 3 1 0 1 1 0 2 2 2 2 2 2 2 2 2 2 3 1 3 3 1\n",
      " 3 3 3 0 3 4 4 4 4 4 5 4 4 5 5 5 3 5 5 5 5 5 5 5 5 5 5 4], shape=(65,), dtype=int64)\n",
      "9/9 [==============================] - 8s 896ms/step - loss: 0.5805 - accuracy: 0.8088 - val_loss: 0.7429 - val_accuracy: 0.7385\n",
      "Epoch 35/60\n",
      "2/2 [==============================] - 1s 20ms/step\n",
      "tf.Tensor(\n",
      "[0 0 1 0 0 1 0 0 1 0 1 1 1 1 1 0 3 1 0 1 1 0 2 2 2 2 2 2 2 2 2 2 3 1 3 3 3\n",
      " 3 3 3 0 3 4 4 4 4 4 5 4 4 5 5 5 3 5 5 5 5 5 5 5 5 5 5 4], shape=(65,), dtype=int64)\n",
      "9/9 [==============================] - 7s 803ms/step - loss: 0.5603 - accuracy: 0.8203 - val_loss: 0.7275 - val_accuracy: 0.7538\n",
      "Epoch 36/60\n",
      "2/2 [==============================] - 1s 25ms/step\n",
      "tf.Tensor(\n",
      "[0 0 1 0 0 1 0 0 1 0 1 1 1 1 1 0 3 1 0 1 1 0 2 2 2 2 2 2 2 2 2 2 3 1 3 3 3\n",
      " 3 3 3 0 3 4 4 4 4 4 5 4 4 5 5 5 3 5 5 5 5 5 5 5 5 5 5 4], shape=(65,), dtype=int64)\n",
      "9/9 [==============================] - 7s 795ms/step - loss: 0.5628 - accuracy: 0.8088 - val_loss: 0.7229 - val_accuracy: 0.7538\n",
      "Epoch 37/60\n",
      "2/2 [==============================] - 1s 25ms/step\n",
      "tf.Tensor(\n",
      "[0 0 1 0 0 1 0 0 1 0 1 1 1 1 1 0 3 1 0 1 1 0 2 2 2 2 2 2 2 2 2 2 3 1 3 3 3\n",
      " 3 3 3 0 3 4 4 4 4 4 5 4 4 5 5 5 3 5 5 5 5 5 5 5 5 5 5 5], shape=(65,), dtype=int64)\n",
      "9/9 [==============================] - 7s 801ms/step - loss: 0.5427 - accuracy: 0.8279 - val_loss: 0.7171 - val_accuracy: 0.7692\n",
      "Epoch 38/60\n",
      "2/2 [==============================] - 1s 20ms/step\n",
      "tf.Tensor(\n",
      "[0 0 1 0 0 1 0 0 1 0 1 1 1 1 1 0 3 1 0 1 1 0 2 2 2 2 2 2 2 2 2 2 3 1 3 3 3\n",
      " 3 3 3 0 3 4 4 4 4 4 5 4 4 5 5 5 3 5 5 5 5 5 5 5 5 5 5 4], shape=(65,), dtype=int64)\n",
      "9/9 [==============================] - 8s 895ms/step - loss: 0.5062 - accuracy: 0.8375 - val_loss: 0.7158 - val_accuracy: 0.7538\n",
      "Epoch 39/60\n",
      "2/2 [==============================] - 1s 20ms/step\n",
      "tf.Tensor(\n",
      "[0 0 1 0 0 1 0 0 1 0 1 1 1 1 1 0 3 1 0 1 1 0 2 2 2 2 2 2 2 2 2 2 3 1 3 3 1\n",
      " 3 3 3 0 3 4 4 4 4 4 5 4 4 5 5 5 3 5 5 5 5 5 5 5 5 5 5 5], shape=(65,), dtype=int64)\n",
      "9/9 [==============================] - 7s 798ms/step - loss: 0.4980 - accuracy: 0.8413 - val_loss: 0.7146 - val_accuracy: 0.7538\n",
      "Epoch 40/60\n",
      "2/2 [==============================] - 1s 19ms/step\n",
      "tf.Tensor(\n",
      "[0 0 1 0 0 1 0 0 0 0 1 1 1 1 1 0 3 1 0 1 1 0 2 2 2 2 2 2 2 2 2 2 3 1 3 3 3\n",
      " 3 3 3 0 3 4 4 4 4 4 5 4 4 5 5 5 3 5 5 5 5 5 5 5 5 5 5 4], shape=(65,), dtype=int64)\n",
      "9/9 [==============================] - 8s 869ms/step - loss: 0.5210 - accuracy: 0.8451 - val_loss: 0.7221 - val_accuracy: 0.7692\n",
      "Epoch 41/60\n",
      "2/2 [==============================] - 1s 20ms/step\n",
      "tf.Tensor(\n",
      "[0 0 1 0 0 1 0 0 1 0 1 1 1 1 1 0 3 1 0 1 1 0 2 2 2 2 2 2 2 2 2 2 3 1 3 3 3\n",
      " 3 3 3 3 3 4 4 4 4 4 5 4 4 5 5 5 3 5 5 5 5 5 5 5 5 5 5 5], shape=(65,), dtype=int64)\n",
      "9/9 [==============================] - 12s 1s/step - loss: 0.4802 - accuracy: 0.8662 - val_loss: 0.7080 - val_accuracy: 0.7846\n",
      "Epoch 42/60\n",
      "2/2 [==============================] - 1s 22ms/step\n",
      "tf.Tensor(\n",
      "[0 0 1 0 0 1 0 0 0 0 1 1 1 1 1 0 3 1 0 1 1 0 2 2 2 2 2 2 2 2 2 2 3 1 3 3 3\n",
      " 3 3 3 0 3 4 4 4 4 4 5 4 4 5 5 5 3 5 5 5 5 5 5 5 5 5 5 4], shape=(65,), dtype=int64)\n",
      "9/9 [==============================] - 8s 968ms/step - loss: 0.4785 - accuracy: 0.8547 - val_loss: 0.7065 - val_accuracy: 0.7692\n",
      "Epoch 43/60\n",
      "2/2 [==============================] - 1s 23ms/step\n",
      "tf.Tensor(\n",
      "[0 0 1 0 0 1 0 0 1 0 1 1 1 1 1 0 3 1 0 1 1 0 2 2 2 2 2 2 2 2 2 2 3 1 3 3 1\n",
      " 3 3 3 3 3 4 4 4 4 4 5 4 4 5 5 5 3 5 5 5 5 5 5 5 5 5 5 5], shape=(65,), dtype=int64)\n",
      "9/9 [==============================] - 7s 794ms/step - loss: 0.4836 - accuracy: 0.8451 - val_loss: 0.7008 - val_accuracy: 0.7692\n",
      "Epoch 44/60\n",
      "2/2 [==============================] - 1s 19ms/step\n",
      "tf.Tensor(\n",
      "[0 0 1 0 0 1 0 0 0 0 1 1 1 1 1 0 3 1 0 1 1 0 2 2 2 2 2 2 2 2 2 2 3 1 3 3 3\n",
      " 3 3 3 3 3 4 4 4 4 4 5 4 4 5 5 5 3 5 5 5 5 5 5 5 5 5 5 4], shape=(65,), dtype=int64)\n",
      "9/9 [==============================] - 8s 870ms/step - loss: 0.4769 - accuracy: 0.8509 - val_loss: 0.6957 - val_accuracy: 0.7846\n",
      "Epoch 45/60\n",
      "2/2 [==============================] - 1s 25ms/step\n",
      "tf.Tensor(\n",
      "[0 0 1 0 0 1 0 0 1 0 1 1 1 1 1 0 3 1 0 1 1 0 2 2 2 2 2 2 2 2 2 2 3 1 3 3 3\n",
      " 3 3 3 3 3 4 4 4 4 4 5 4 4 5 5 5 3 5 5 5 5 5 5 5 5 5 5 4], shape=(65,), dtype=int64)\n",
      "9/9 [==============================] - 7s 802ms/step - loss: 0.4651 - accuracy: 0.8394 - val_loss: 0.6911 - val_accuracy: 0.7692\n",
      "Epoch 46/60\n",
      "2/2 [==============================] - 1s 20ms/step\n",
      "tf.Tensor(\n",
      "[0 0 1 0 0 1 0 0 0 0 1 1 1 1 1 0 3 1 0 1 1 0 2 2 2 2 2 2 2 2 2 2 3 1 3 3 3\n",
      " 3 3 3 3 3 4 4 4 4 4 5 4 4 5 5 5 3 5 5 5 5 5 5 5 5 5 5 4], shape=(65,), dtype=int64)\n",
      "9/9 [==============================] - 8s 938ms/step - loss: 0.4371 - accuracy: 0.8700 - val_loss: 0.6909 - val_accuracy: 0.7846\n",
      "Epoch 47/60\n",
      "2/2 [==============================] - 1s 21ms/step\n",
      "tf.Tensor(\n",
      "[0 0 1 0 0 1 0 0 1 0 1 1 1 1 1 0 3 1 0 1 1 0 2 2 2 2 2 2 2 2 2 2 3 1 3 3 3\n",
      " 3 3 3 3 3 4 4 4 4 4 5 4 4 5 5 5 3 5 5 5 5 5 5 5 5 5 5 5], shape=(65,), dtype=int64)\n",
      "9/9 [==============================] - 7s 796ms/step - loss: 0.4031 - accuracy: 0.8967 - val_loss: 0.6852 - val_accuracy: 0.7846\n",
      "Epoch 48/60\n",
      "2/2 [==============================] - 1s 20ms/step\n",
      "tf.Tensor(\n",
      "[0 0 1 0 0 1 0 0 0 0 1 1 1 1 1 0 3 1 0 1 1 0 2 2 2 2 2 2 2 2 2 2 3 1 3 3 3\n",
      " 3 3 3 3 3 4 4 4 4 4 5 4 4 5 5 5 3 5 5 5 5 5 5 5 5 5 5 4], shape=(65,), dtype=int64)\n",
      "9/9 [==============================] - 7s 801ms/step - loss: 0.4334 - accuracy: 0.8719 - val_loss: 0.6867 - val_accuracy: 0.7846\n",
      "Epoch 49/60\n",
      "2/2 [==============================] - 1s 20ms/step\n",
      "tf.Tensor(\n",
      "[0 0 1 0 0 1 0 0 0 0 1 1 1 1 1 0 3 1 0 1 1 0 2 2 2 2 2 2 2 2 2 2 3 1 3 3 3\n",
      " 3 3 3 3 3 4 4 4 4 4 5 4 4 5 5 5 3 5 5 5 5 5 5 5 5 5 5 4], shape=(65,), dtype=int64)\n",
      "9/9 [==============================] - 7s 795ms/step - loss: 0.4022 - accuracy: 0.8948 - val_loss: 0.6825 - val_accuracy: 0.7846\n",
      "Epoch 50/60\n",
      "2/2 [==============================] - 1s 31ms/step\n",
      "tf.Tensor(\n",
      "[0 0 1 0 0 1 0 0 1 0 1 1 1 1 1 0 3 1 0 1 1 0 2 2 2 1 2 2 2 2 2 2 3 1 3 3 3\n",
      " 3 3 3 3 3 4 4 4 4 4 5 4 4 5 5 5 3 5 5 5 5 5 5 5 5 5 5 4], shape=(65,), dtype=int64)\n",
      "9/9 [==============================] - 8s 870ms/step - loss: 0.4042 - accuracy: 0.8719 - val_loss: 0.6845 - val_accuracy: 0.7538\n",
      "Epoch 51/60\n",
      "2/2 [==============================] - 1s 20ms/step\n",
      "tf.Tensor(\n",
      "[0 0 1 0 0 1 0 0 1 0 1 1 1 1 1 0 3 1 0 1 1 0 2 2 2 2 2 2 2 2 2 2 3 1 3 3 3\n",
      " 3 3 3 3 3 4 4 4 4 4 5 4 4 5 5 5 3 5 5 5 5 5 5 5 5 5 5 4], shape=(65,), dtype=int64)\n",
      "9/9 [==============================] - 8s 865ms/step - loss: 0.3773 - accuracy: 0.8910 - val_loss: 0.6842 - val_accuracy: 0.7692\n",
      "Epoch 52/60\n",
      "2/2 [==============================] - 1s 20ms/step\n",
      "tf.Tensor(\n",
      "[0 0 1 0 0 1 0 0 1 0 1 1 1 1 1 0 3 1 0 1 1 0 2 2 2 2 2 2 2 2 2 2 3 1 3 3 1\n",
      " 3 3 3 3 3 4 4 4 4 4 5 4 4 5 5 5 3 5 5 5 5 5 5 5 5 5 5 5], shape=(65,), dtype=int64)\n",
      "9/9 [==============================] - 7s 799ms/step - loss: 0.3753 - accuracy: 0.9101 - val_loss: 0.6811 - val_accuracy: 0.7692\n",
      "Epoch 53/60\n",
      "2/2 [==============================] - 1s 20ms/step\n",
      "tf.Tensor(\n",
      "[0 0 1 0 0 1 0 0 0 0 1 1 1 1 1 0 3 1 0 1 1 0 2 2 2 2 2 2 2 2 2 2 3 1 3 3 3\n",
      " 3 3 3 3 3 4 4 4 4 4 5 4 4 5 5 5 3 5 5 5 5 5 5 5 5 5 5 4], shape=(65,), dtype=int64)\n",
      "9/9 [==============================] - 8s 869ms/step - loss: 0.3813 - accuracy: 0.9063 - val_loss: 0.6824 - val_accuracy: 0.7846\n",
      "Epoch 54/60\n",
      "2/2 [==============================] - 1s 20ms/step\n",
      "tf.Tensor(\n",
      "[0 0 1 0 0 1 0 0 1 0 1 1 1 1 1 0 3 1 0 1 1 1 2 2 2 2 2 2 2 2 2 2 3 1 3 3 1\n",
      " 3 3 3 3 3 4 4 4 4 4 5 4 4 5 5 5 3 5 5 5 5 5 5 5 5 5 5 4], shape=(65,), dtype=int64)\n",
      "9/9 [==============================] - 7s 785ms/step - loss: 0.3814 - accuracy: 0.8910 - val_loss: 0.6762 - val_accuracy: 0.7692\n",
      "Epoch 55/60\n",
      "2/2 [==============================] - 1s 19ms/step\n",
      "tf.Tensor(\n",
      "[0 0 1 0 0 1 0 0 0 0 1 1 1 1 1 0 3 1 0 1 1 0 2 2 2 2 2 2 2 2 2 2 3 1 3 3 3\n",
      " 3 3 3 3 3 4 4 4 4 4 5 4 4 5 5 5 3 5 5 5 5 5 5 5 5 5 5 4], shape=(65,), dtype=int64)\n",
      "9/9 [==============================] - 8s 960ms/step - loss: 0.3837 - accuracy: 0.8910 - val_loss: 0.6815 - val_accuracy: 0.7846\n",
      "Epoch 56/60\n",
      "2/2 [==============================] - 1s 19ms/step\n",
      "tf.Tensor(\n",
      "[0 0 1 0 0 1 0 0 1 0 1 1 1 1 1 0 3 1 0 1 1 1 2 2 2 2 2 2 2 2 2 2 3 1 3 3 1\n",
      " 3 3 3 3 3 4 4 4 4 4 5 4 4 5 5 5 3 5 5 5 5 5 5 5 5 5 5 4], shape=(65,), dtype=int64)\n",
      "9/9 [==============================] - 7s 791ms/step - loss: 0.3532 - accuracy: 0.9082 - val_loss: 0.6761 - val_accuracy: 0.7692\n",
      "Epoch 57/60\n",
      "2/2 [==============================] - 1s 21ms/step\n",
      "tf.Tensor(\n",
      "[0 0 1 0 0 1 0 0 0 0 1 1 1 1 1 0 3 1 0 1 1 0 2 2 2 2 2 2 2 2 2 2 3 1 3 3 3\n",
      " 3 3 3 3 3 4 4 4 4 4 5 4 4 5 5 5 3 5 5 5 5 5 5 5 5 5 5 4], shape=(65,), dtype=int64)\n",
      "9/9 [==============================] - 7s 789ms/step - loss: 0.3586 - accuracy: 0.8891 - val_loss: 0.6691 - val_accuracy: 0.7846\n",
      "Epoch 58/60\n",
      "2/2 [==============================] - 1s 19ms/step\n",
      "tf.Tensor(\n",
      "[0 0 1 0 0 1 0 0 0 0 1 1 1 1 1 0 3 1 0 1 1 1 2 2 2 2 2 2 2 2 2 2 3 1 3 3 3\n",
      " 3 3 3 3 3 4 4 4 4 4 5 4 4 5 5 5 3 5 5 5 5 5 5 5 5 5 5 4], shape=(65,), dtype=int64)\n",
      "9/9 [==============================] - 13s 2s/step - loss: 0.3577 - accuracy: 0.9044 - val_loss: 0.6695 - val_accuracy: 0.8000\n",
      "Epoch 59/60\n",
      "2/2 [==============================] - 1s 19ms/step\n",
      "tf.Tensor(\n",
      "[0 0 1 0 0 1 0 0 0 0 1 1 1 1 1 0 3 1 0 1 1 0 2 2 2 2 2 2 2 2 2 2 3 1 3 3 3\n",
      " 3 3 3 3 3 4 4 4 4 4 5 4 4 5 5 5 3 5 5 5 5 5 5 5 5 5 5 4], shape=(65,), dtype=int64)\n",
      "9/9 [==============================] - 7s 791ms/step - loss: 0.3439 - accuracy: 0.9101 - val_loss: 0.6720 - val_accuracy: 0.7846\n",
      "Epoch 60/60\n",
      "2/2 [==============================] - 1s 19ms/step\n",
      "tf.Tensor(\n",
      "[0 0 1 0 0 1 0 0 0 0 1 1 1 1 1 0 3 1 0 1 1 1 2 2 2 2 2 2 2 2 2 2 3 1 3 3 1\n",
      " 3 3 3 3 3 4 4 4 4 4 5 4 4 5 5 5 3 5 5 5 5 5 5 5 5 5 5 4], shape=(65,), dtype=int64)\n",
      "9/9 [==============================] - 8s 866ms/step - loss: 0.3361 - accuracy: 0.9082 - val_loss: 0.6666 - val_accuracy: 0.7846\n"
     ]
    }
   ],
   "source": [
    "class ImageCallbacks(tf.keras.callbacks.Callback):\n",
    "    def on_epoch_end(self, epoch, logs=None):\n",
    "        predictions = self.model.predict(ds_valid)\n",
    "        #print(predictions)\n",
    "        predicted_classes = tf.argmax(predictions, axis=-1)\n",
    "        print(predicted_classes)\n",
    "checkpoint_filepath = '/kaggle/working/'\n",
    "\n",
    "model_checkpoint_callback = tf.keras.callbacks.ModelCheckpoint(\n",
    "    filepath=checkpoint_filepath,\n",
    "    monitor='val_accuracy',\n",
    "    mode = 'max',\n",
    "    save_best_only = True,\n",
    ")\n",
    "        \n",
    "history = model.fit(\n",
    "    ds_train,\n",
    "    validation_data=ds_valid,\n",
    "    epochs=60,\n",
    "    callbacks=[ImageCallbacks(),model_checkpoint_callback]\n",
    ")"
   ]
  },
  {
   "cell_type": "markdown",
   "id": "47c1a674",
   "metadata": {
    "papermill": {
     "duration": 0.05175,
     "end_time": "2025-05-05T22:27:10.865988",
     "exception": false,
     "start_time": "2025-05-05T22:27:10.814238",
     "status": "completed"
    },
    "tags": []
   },
   "source": [
    "Run the cell below to plot the loss and metric curves for this training run."
   ]
  },
  {
   "cell_type": "code",
   "execution_count": 11,
   "id": "cabc2650",
   "metadata": {
    "execution": {
     "iopub.execute_input": "2025-05-05T22:27:10.974283Z",
     "iopub.status.busy": "2025-05-05T22:27:10.973545Z",
     "iopub.status.idle": "2025-05-05T22:27:11.691460Z",
     "shell.execute_reply": "2025-05-05T22:27:11.690414Z"
    },
    "papermill": {
     "duration": 0.774319,
     "end_time": "2025-05-05T22:27:11.693435",
     "exception": false,
     "start_time": "2025-05-05T22:27:10.919116",
     "status": "completed"
    },
    "tags": []
   },
   "outputs": [
    {
     "data": {
      "image/png": "[encoded data removed]",
      "text/plain": [
       "<Figure size 640x480 with 1 Axes>"
      ]
     },
     "metadata": {},
     "output_type": "display_data"
    },
    {
     "data": {
      "image/png": "[encoded data removed]",
      "text/plain": [
       "<Figure size 640x480 with 1 Axes>"
      ]
     },
     "metadata": {},
     "output_type": "display_data"
    }
   ],
   "source": [
    "import pandas as pd\n",
    "history_frame = pd.DataFrame(history.history)\n",
    "history_frame.loc[:, ['loss', 'val_loss']].plot()\n",
    "history_frame.loc[:, ['accuracy', 'val_accuracy']].plot();"
   ]
  },
  {
   "cell_type": "code",
   "execution_count": 12,
   "id": "c1dcf873",
   "metadata": {
    "execution": {
     "iopub.execute_input": "2025-05-05T22:27:11.803426Z",
     "iopub.status.busy": "2025-05-05T22:27:11.802537Z",
     "iopub.status.idle": "2025-05-05T22:27:17.046141Z",
     "shell.execute_reply": "2025-05-05T22:27:17.045089Z"
    },
    "papermill": {
     "duration": 5.300351,
     "end_time": "2025-05-05T22:27:17.048260",
     "exception": false,
     "start_time": "2025-05-05T22:27:11.747909",
     "status": "completed"
    },
    "tags": []
   },
   "outputs": [
    {
     "name": "stdout",
     "output_type": "stream",
     "text": [
      "Found 65 files belonging to 6 classes.\n",
      "2/2 [==============================] - 1s 23ms/step - loss: 50.4728 - accuracy: 0.2000\n"
     ]
    }
   ],
   "source": [
    "best_model = keras.models.load_model(checkpoint_filepath)\n",
    "\n",
    "testing_data = image_dataset_from_directory(\n",
    "    '../input/coral-type-classification/Coral classification/Testing',\n",
    "    labels='inferred',\n",
    "    label_mode='categorical',\n",
    "    image_size=[128, 128],\n",
    "    interpolation='nearest',\n",
    "    batch_size=64,\n",
    "    shuffle=False,\n",
    ")\n",
    "\n",
    "evaluate = model.evaluate(testing_data)"
   ]
  },
  {
   "cell_type": "markdown",
   "id": "80c6519d",
   "metadata": {
    "papermill": {
     "duration": 0.053196,
     "end_time": "2025-05-05T22:27:17.155268",
     "exception": false,
     "start_time": "2025-05-05T22:27:17.102072",
     "status": "completed"
    },
    "tags": []
   },
   "source": [
    "# 4) Examine Loss and Accuracy #\n",
    "\n",
    "Do you notice a difference between these learning curves and the curves for VGG16 from the tutorial? What does this difference tell you about what this model (InceptionV2) learned compared to VGG16? Are there ways in which one is better than the other? Worse?\n",
    "\n",
    "After you've thought about it, run the cell below to see the answer."
   ]
  },
  {
   "cell_type": "code",
   "execution_count": 13,
   "id": "36e2b54e",
   "metadata": {
    "execution": {
     "iopub.execute_input": "2025-05-05T22:27:17.264673Z",
     "iopub.status.busy": "2025-05-05T22:27:17.264294Z",
     "iopub.status.idle": "2025-05-05T22:27:17.272454Z",
     "shell.execute_reply": "2025-05-05T22:27:17.271547Z"
    },
    "papermill": {
     "duration": 0.064924,
     "end_time": "2025-05-05T22:27:17.274413",
     "exception": false,
     "start_time": "2025-05-05T22:27:17.209489",
     "status": "completed"
    },
    "tags": []
   },
   "outputs": [
    {
     "data": {
      "application/javascript": [
       "parent.postMessage({\"jupyterEvent\": \"custom.exercise_interaction\", \"data\": {\"outcomeType\": 1, \"valueTowardsCompletion\": 0.25, \"interactionType\": 1, \"questionType\": 4, \"questionId\": \"4_Q4\", \"learnToolsVersion\": \"0.3.4\", \"failureMessage\": \"\", \"exceptionClass\": \"\", \"trace\": \"\"}}, \"*\")"
      ],
      "text/plain": [
       "<IPython.core.display.Javascript object>"
      ]
     },
     "metadata": {},
     "output_type": "display_data"
    },
    {
     "data": {
      "text/markdown": [
       "<span style=\"color:#33cc33\">Correct:</span> \n",
       "\n",
       "That the training loss and validation loss stay fairly close is evidence that the model isn't just memorizing the training data, but rather learning general properties of the two classes. But, because this model converges at a loss greater than the VGG16 model, it's likely that it is underfitting some, and could benefit from some extra capacity.\n"
      ],
      "text/plain": [
       "Correct: \n",
       "\n",
       "That the training loss and validation loss stay fairly close is evidence that the model isn't just memorizing the training data, but rather learning general properties of the two classes. But, because this model converges at a loss greater than the VGG16 model, it's likely that it is underfitting some, and could benefit from some extra capacity."
      ]
     },
     "metadata": {},
     "output_type": "display_data"
    }
   ],
   "source": [
    "# View the solution (Run this code cell to receive credit!)\n",
    "q_4.check()"
   ]
  },
  {
   "cell_type": "code",
   "execution_count": null,
   "id": "98c71595",
   "metadata": {
    "papermill": {
     "duration": 0.053358,
     "end_time": "2025-05-05T22:27:17.381640",
     "exception": false,
     "start_time": "2025-05-05T22:27:17.328282",
     "status": "completed"
    },
    "tags": []
   },
   "outputs": [],
   "source": []
  },
  {
   "cell_type": "markdown",
   "id": "0b66a145",
   "metadata": {
    "papermill": {
     "duration": 0.05312,
     "end_time": "2025-05-05T22:27:17.488474",
     "exception": false,
     "start_time": "2025-05-05T22:27:17.435354",
     "status": "completed"
    },
    "tags": []
   },
   "source": [
    "# Conclusion #\n",
    "\n",
    "In this first lesson, you learned the basics of **convolutional image classifiers**, that they consist of a **base** for extracting features from images, and a **head** which uses the features to decide the image's class. You also saw how to build a classifier with **transfer learning** on pretrained base. "
   ]
  },
  {
   "cell_type": "markdown",
   "id": "db825840",
   "metadata": {
    "papermill": {
     "duration": 0.054798,
     "end_time": "2025-05-05T22:27:17.597004",
     "exception": false,
     "start_time": "2025-05-05T22:27:17.542206",
     "status": "completed"
    },
    "tags": []
   },
   "source": [
    "# Keep Going #\n",
    "\n",
    "Move on to [**Lesson 2**](https://www.kaggle.com/ryanholbrook/convolution-and-relu) for a detailed look at how the base does this feature extraction. (It's really cool!)"
   ]
  },
  {
   "cell_type": "markdown",
   "id": "88831838",
   "metadata": {
    "papermill": {
     "duration": 0.053475,
     "end_time": "2025-05-05T22:27:17.704219",
     "exception": false,
     "start_time": "2025-05-05T22:27:17.650744",
     "status": "completed"
    },
    "tags": []
   },
   "source": [
    "#### ---\n",
    "\n",
    "\n",
    "\n",
    "\n",
    "*Have questions or comments? Visit the [course discussion forum](https://www.kaggle.com/learn/computer-vision/discussion) to chat with other learners.*"
   ]
  }
 ],
 "metadata": {
  "jupytext": {
   "formats": "ipynb,md",
   "split_at_heading": true
  },
  "kaggle": {
   "accelerator": "none",
   "dataSources": [
    {
     "datasetId": 708136,
     "sourceId": 1338830,
     "sourceType": "datasetVersion"
    },
    {
     "datasetId": 701538,
     "sourceId": 1363948,
     "sourceType": "datasetVersion"
    },
    {
     "datasetId": 878523,
     "sourceId": 1495782,
     "sourceType": "datasetVersion"
    },
    {
     "datasetId": 7007051,
     "sourceId": 11220148,
     "sourceType": "datasetVersion"
    },
    {
     "isSourceIdPinned": true,
     "modelId": 241,
     "modelInstanceId": 1495,
     "sourceId": 1770,
     "sourceType": "modelInstanceVersion"
    }
   ],
   "dockerImageVersionId": 30646,
   "isGpuEnabled": false,
   "isInternetEnabled": false,
   "language": "python",
   "sourceType": "notebook"
  },
  "kernelspec": {
   "display_name": "Python 3",
   "language": "python",
   "name": "python3"
  },
  "language_info": {
   "codemirror_mode": {
    "name": "ipython",
    "version": 3
   },
   "file_extension": ".py",
   "mimetype": "text/x-python",
   "name": "python",
   "nbconvert_exporter": "python",
   "pygments_lexer": "ipython3",
   "version": "3.10.13"
  },
  "papermill": {
   "default_parameters": {},
   "duration": 619.41286,
   "end_time": "2025-05-05T22:27:20.568788",
   "environment_variables": {},
   "exception": null,
   "input_path": "__notebook__.ipynb",
   "output_path": "__notebook__.ipynb",
   "parameters": {},
   "start_time": "2025-05-05T22:17:01.155928",
   "version": "2.5.0"
  }
 },
 "nbformat": 4,
 "nbformat_minor": 5
}
